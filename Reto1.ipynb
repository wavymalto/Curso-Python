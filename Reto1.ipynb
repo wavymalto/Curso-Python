{
  "cells": [
    {
      "cell_type": "markdown",
      "metadata": {
        "id": "nCjE4hgyjNPT"
      },
      "source": [
        "# Reto 1:\n",
        "\n",
        "---\n",
        "\n"
      ]
    },
    {
      "cell_type": "markdown",
      "metadata": {
        "id": "DUu2A4GtjRV6"
      },
      "source": [
        "## Ejercicio 1: Variables"
      ]
    },
    {
      "cell_type": "markdown",
      "metadata": {
        "id": "0qc1n8-ukahY"
      },
      "source": [
        "Crea una variable llamada `titulo_libro` y asignale el libro que más te guste"
      ]
    },
    {
      "cell_type": "code",
      "execution_count": 1,
      "metadata": {
        "id": "KJaYe7czkj6S"
      },
      "outputs": [],
      "source": [
        "titulo_libro= 'El Curioso caso de Benjamin Botton'"
      ]
    },
    {
      "cell_type": "markdown",
      "metadata": {
        "id": "sycdwGVhkMFA"
      },
      "source": [
        "Crea una variable llamada `numero_suerte` y asignale tu número de la suerte"
      ]
    },
    {
      "cell_type": "code",
      "execution_count": 2,
      "metadata": {
        "id": "P32CXA2zipLd"
      },
      "outputs": [],
      "source": [
        "numero_suerte= 7"
      ]
    },
    {
      "cell_type": "markdown",
      "metadata": {
        "id": "8eCYlApolazY"
      },
      "source": [
        "Crea una variable llamada `suma_edades` y coloca la suma de las edades de los integrantes de equipo y al final manda a imprimir la variable con `print()`"
      ]
    },
    {
      "cell_type": "code",
      "execution_count": 3,
      "metadata": {
        "id": "I8s2uuELmSz2"
      },
      "outputs": [
        {
          "name": "stdout",
          "output_type": "stream",
          "text": [
            "62\n"
          ]
        }
      ],
      "source": [
        "suma_edades= 21+21+20\n",
        "print(suma_edades)"
      ]
    },
    {
      "cell_type": "markdown",
      "metadata": {
        "id": "q3ZgvxgbmuEO"
      },
      "source": [
        "## Ejercicio 2: Suma de variables"
      ]
    },
    {
      "cell_type": "markdown",
      "metadata": {
        "id": "154gcOAonErO"
      },
      "source": [
        "Escogan 3 números aleatorioamente entre 100 y 1000 en equipo y asignenlos a `valor1`, `valor2` y `valor2`"
      ]
    },
    {
      "cell_type": "code",
      "execution_count": 4,
      "metadata": {
        "id": "08Hx8yB6n3WM"
      },
      "outputs": [],
      "source": [
        "valor1 = 600\n",
        "valor2 = 777\n",
        "valor3 = 222"
      ]
    },
    {
      "cell_type": "markdown",
      "metadata": {
        "id": "5nTdHJsUn58G"
      },
      "source": [
        "Ahora imprimir la suma de `valor1` con `valor3`"
      ]
    },
    {
      "cell_type": "code",
      "execution_count": 5,
      "metadata": {
        "id": "cbti4yg7oFXZ"
      },
      "outputs": [
        {
          "name": "stdout",
          "output_type": "stream",
          "text": [
            "822\n"
          ]
        }
      ],
      "source": [
        "suma=valor1 + valor3\n",
        "print(suma)"
      ]
    },
    {
      "cell_type": "markdown",
      "metadata": {
        "id": "RfaCkVzDoHbg"
      },
      "source": [
        "La resta de `valor2` menos `valor3`"
      ]
    },
    {
      "cell_type": "code",
      "execution_count": 6,
      "metadata": {
        "id": "tk-NBtb7oOsQ"
      },
      "outputs": [
        {
          "name": "stdout",
          "output_type": "stream",
          "text": [
            "555\n"
          ]
        }
      ],
      "source": [
        "resta= valor2-valor3\n",
        "print(resta)"
      ]
    },
    {
      "cell_type": "markdown",
      "metadata": {
        "id": "1Xa_RHhYoRZF"
      },
      "source": [
        "La multiplicación entre `valor1` y `valor2`"
      ]
    },
    {
      "cell_type": "code",
      "execution_count": 7,
      "metadata": {
        "id": "YMFFApCjoX-A"
      },
      "outputs": [
        {
          "name": "stdout",
          "output_type": "stream",
          "text": [
            "466200\n"
          ]
        }
      ],
      "source": [
        "multiplicacion= valor1*valor2\n",
        "print(multiplicacion)"
      ]
    },
    {
      "cell_type": "markdown",
      "metadata": {
        "id": "rkLKuewFoeit"
      },
      "source": [
        "## Ejercicio 3: Format"
      ]
    },
    {
      "cell_type": "markdown",
      "metadata": {
        "id": "Do6iGYn7o-t2"
      },
      "source": [
        "Con la variable `suma_edades` que hiciste en el Ejercicio 1, deberas meterla en un print de tal manera que salga de esta manera el mensaje:\n",
        "\n",
        "**La suma de las edades de Juan, María y Pablo es de 45 años**\n",
        "\n",
        "Cambia los nombres, por los integrantes del equipo"
      ]
    },
    {
      "cell_type": "code",
      "execution_count": 8,
      "metadata": {
        "id": "gQv9kyymov4z"
      },
      "outputs": [
        {
          "name": "stdout",
          "output_type": "stream",
          "text": [
            "La suma de las edades de Edgar, Pedro y Jorge es 62\n"
          ]
        }
      ],
      "source": [
        "print(f'La suma de las edades de Edgar, Pedro y Jorge es {suma_edades}')"
      ]
    },
    {
      "cell_type": "markdown",
      "metadata": {
        "id": "7YoThJ5wpjZG"
      },
      "source": [
        "Crea 3 varaibles, `ancho_terreno`, `largo_terrero` y `area_terreno`. \n",
        "\n",
        "Al ancho le asignaras 25 y al largo 30\n",
        "\n",
        "Sacaras el área con la formula Ancho x Alto y lo asiganaras a `area_terreno`.\n",
        "\n",
        "Imprime un mensaje en format que se vea de la siguiente manera, utilizando las variables\n",
        "\n",
        "**El área del terreno con un ancho de 25 mts y de largo 30 mts, es de: 750 mts cuadrados**"
      ]
    },
    {
      "cell_type": "code",
      "execution_count": 9,
      "metadata": {
        "id": "xlbWfbbEvGMH"
      },
      "outputs": [
        {
          "name": "stdout",
          "output_type": "stream",
          "text": [
            "El área del terreno con un ancho de 25 mts y de largo 30 mts, es de: 750 mts cuadrados\n"
          ]
        }
      ],
      "source": [
        "ancho_terreno=25\n",
        "largo_terreno=30\n",
        "area_terreno=ancho_terreno*largo_terreno\n",
        "print(f'El área del terreno con un ancho de {ancho_terreno} mts y de largo {largo_terreno} mts, es de: {area_terreno} mts cuadrados')"
      ]
    },
    {
      "cell_type": "markdown",
      "metadata": {
        "id": "my7VpwUcvp1K"
      },
      "source": [
        "## Ejercicio 4: Input"
      ]
    },
    {
      "cell_type": "markdown",
      "metadata": {
        "id": "mrZ0RxICwSsJ"
      },
      "source": [
        "Crea una variable llamada `nombre` donde le asiganaras un input que diga \"*Dame tu nombre*\".\n",
        "\n",
        "Crea una variable llamada `edad` donde le asignaras un input(dentro de un int) que diga \"*Dame tu edad*\".\n",
        "\n",
        "Manda a imprimir un format que diga:\n",
        "\n",
        "**\"Su nombre es: ____ y su edad es de ___ años\"**\n",
        "\n",
        "Todo en la misma celda"
      ]
    },
    {
      "cell_type": "code",
      "execution_count": 12,
      "metadata": {
        "id": "hCICpOwAvruU"
      },
      "outputs": [
        {
          "name": "stdout",
          "output_type": "stream",
          "text": [
            "Su nombre es: Edgar y su edad es de 21 años\n"
          ]
        }
      ],
      "source": [
        "nombre= input('Dame tu nombre')\n",
        "edad= int(input('Dame tu edad'))\n",
        "print(f'Su nombre es: {nombre} y su edad es de {edad} años')"
      ]
    },
    {
      "cell_type": "markdown",
      "metadata": {
        "id": "C5jtrBn7x5KE"
      },
      "source": [
        "## Extra Points"
      ]
    },
    {
      "cell_type": "markdown",
      "metadata": {
        "id": "J1CV99N7x7RB"
      },
      "source": [
        "Crea una variable llamada `total` y le asignaras un input númerico que diga \"*Dame un número*\".\n",
        "\n",
        "Crea una varaible llamada `porcentaje` y le asignaaras un input númerico que diga \"*¿Qué porcentaje quieres sacar*\"\n",
        "\n",
        "Crea una variable llamada `resultado` donde haras el calculo del porcentaje del número con las variables `total` y `porcentaje` \n",
        "\n",
        "Manda a imprimir un format que diga \n",
        "\n",
        "**El ___ % de ____ es de ____**\n",
        "\n",
        "Todo en una misma celda\n"
      ]
    },
    {
      "cell_type": "code",
      "execution_count": 13,
      "metadata": {
        "id": "RXCty6A1x6VI"
      },
      "outputs": [
        {
          "name": "stdout",
          "output_type": "stream",
          "text": [
            "El 15% de 179 es de 26.85\n"
          ]
        }
      ],
      "source": [
        "total= int(input('Dame un numero'))\n",
        "porcentaje=int(input('¿Que porcentaje quieres sacar?'))\n",
        "resultado= (total/100)*porcentaje\n",
        "print(f'El {porcentaje}% de {total} es de {resultado}')"
      ]
    }
  ],
  "metadata": {
    "colab": {
      "collapsed_sections": [],
      "name": "Copia de Reto1.ipynb",
      "provenance": []
    },
    "kernelspec": {
      "display_name": "Python 3.11.0 64-bit",
      "language": "python",
      "name": "python3"
    },
    "language_info": {
      "codemirror_mode": {
        "name": "ipython",
        "version": 3
      },
      "file_extension": ".py",
      "mimetype": "text/x-python",
      "name": "python",
      "nbconvert_exporter": "python",
      "pygments_lexer": "ipython3",
      "version": "3.11.0"
    },
    "vscode": {
      "interpreter": {
        "hash": "313a5e095eb2680e052891a4f644428903fcde07f1f64d5aac9659b52c697759"
      }
    }
  },
  "nbformat": 4,
  "nbformat_minor": 0
}
