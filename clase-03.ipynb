{
 "cells": [
  {
   "attachments": {},
   "cell_type": "markdown",
   "metadata": {},
   "source": [
    "# Clase 3 - Ciclos"
   ]
  },
  {
   "attachments": {},
   "cell_type": "markdown",
   "metadata": {},
   "source": [
    "Ciclo While"
   ]
  },
  {
   "cell_type": "code",
   "execution_count": 3,
   "metadata": {},
   "outputs": [
    {
     "name": "stdout",
     "output_type": "stream",
     "text": [
      "Se cumple la condicion\n"
     ]
    }
   ],
   "source": [
    "if True:\n",
    "    print(\"Se cumple la condicion\")"
   ]
  },
  {
   "cell_type": "code",
   "execution_count": 4,
   "metadata": {},
   "outputs": [
    {
     "name": "stdout",
     "output_type": "stream",
     "text": [
      "Se cumple la conidicion\n",
      "Se cumple la conidicion\n",
      "Se cumple la conidicion\n",
      "Se cumple la conidicion\n",
      "Se cumple la conidicion\n",
      "Se cumple la conidicion\n"
     ]
    }
   ],
   "source": [
    "contador = 0 \n",
    "while contador <=5:\n",
    "    print(\"Se cumple la conidicion\")\n",
    "    contador = contador +1"
   ]
  },
  {
   "attachments": {},
   "cell_type": "markdown",
   "metadata": {},
   "source": [
    "Actividad 1\n"
   ]
  },
  {
   "cell_type": "code",
   "execution_count": 18,
   "metadata": {},
   "outputs": [
    {
     "name": "stdout",
     "output_type": "stream",
     "text": [
      "Usuario registrado\n"
     ]
    }
   ],
   "source": [
    "auth = 0\n",
    "while auth==0 :\n",
    "    username = input(\"¿Cual es tu usuario?\")\n",
    "    password = input(\"Dame tu contraseña\")\n",
    " \n",
    "    if len(password) < 6:\n",
    "        print(\"Necesitas crear una contraseña de mas de 6 digitos\")\n",
    "    else:\n",
    "        print(\"Usuario registrado\")\n",
    "    auth = 1\n"
   ]
  },
  {
   "attachments": {},
   "cell_type": "markdown",
   "metadata": {},
   "source": [
    "Ciclo For de Rangos"
   ]
  },
  {
   "cell_type": "code",
   "execution_count": 13,
   "metadata": {},
   "outputs": [
    {
     "name": "stdout",
     "output_type": "stream",
     "text": [
      "0\n",
      "1\n",
      "2\n",
      "3\n",
      "4\n",
      "5\n",
      "6\n",
      "7\n",
      "8\n",
      "9\n"
     ]
    }
   ],
   "source": [
    "for indice in range(10):\n",
    "    print(indice)"
   ]
  },
  {
   "cell_type": "code",
   "execution_count": 14,
   "metadata": {},
   "outputs": [
    {
     "name": "stdout",
     "output_type": "stream",
     "text": [
      "5\n",
      "6\n",
      "7\n",
      "8\n",
      "9\n",
      "10\n",
      "11\n",
      "12\n",
      "13\n",
      "14\n"
     ]
    }
   ],
   "source": [
    "for i in range(5, 15):\n",
    "    print(i)"
   ]
  },
  {
   "cell_type": "code",
   "execution_count": 17,
   "metadata": {},
   "outputs": [
    {
     "name": "stdout",
     "output_type": "stream",
     "text": [
      "5\n",
      "7\n",
      "9\n",
      "11\n",
      "13\n",
      "15\n",
      "17\n",
      "19\n",
      "21\n",
      "23\n"
     ]
    }
   ],
   "source": [
    "for i in range(5, 25, 2):\n",
    "    print(i)"
   ]
  },
  {
   "attachments": {},
   "cell_type": "markdown",
   "metadata": {},
   "source": [
    "Actividad 5"
   ]
  },
  {
   "cell_type": "code",
   "execution_count": 19,
   "metadata": {},
   "outputs": [
    {
     "name": "stdout",
     "output_type": "stream",
     "text": [
      "0\n",
      "1\n",
      "2\n",
      "3\n",
      "4\n",
      "5\n",
      "6\n",
      "7\n",
      "8\n",
      "9\n",
      "10\n",
      "11\n"
     ]
    }
   ],
   "source": [
    "n = int(input(\"¿Cuantas veces se repetira\"))\n",
    "for i in range(n):\n",
    "        print(i)"
   ]
  },
  {
   "attachments": {},
   "cell_type": "markdown",
   "metadata": {},
   "source": [
    "## identacion"
   ]
  },
  {
   "cell_type": "code",
   "execution_count": 20,
   "metadata": {},
   "outputs": [],
   "source": [
    "numeros_cuadrado = []"
   ]
  },
  {
   "cell_type": "code",
   "execution_count": 21,
   "metadata": {},
   "outputs": [],
   "source": [
    "for i in range (10):\n",
    "    numeros_cuadrado.append(i**2)"
   ]
  },
  {
   "cell_type": "code",
   "execution_count": 22,
   "metadata": {},
   "outputs": [
    {
     "name": "stdout",
     "output_type": "stream",
     "text": [
      "[0, 1, 4, 9, 16, 25, 36, 49, 64, 81]\n"
     ]
    }
   ],
   "source": [
    "print(numeros_cuadrado)"
   ]
  },
  {
   "cell_type": "code",
   "execution_count": 23,
   "metadata": {},
   "outputs": [],
   "source": [
    "mis_frutas = [\"pera\",\"fresa\", \"coco\",\"platano\" ]"
   ]
  },
  {
   "cell_type": "code",
   "execution_count": 24,
   "metadata": {},
   "outputs": [
    {
     "name": "stdout",
     "output_type": "stream",
     "text": [
      "pera\n",
      "fresa\n",
      "coco\n",
      "platano\n"
     ]
    }
   ],
   "source": [
    "for i in range(4):\n",
    "    print(mis_frutas[i])"
   ]
  },
  {
   "cell_type": "code",
   "execution_count": 25,
   "metadata": {},
   "outputs": [
    {
     "name": "stdout",
     "output_type": "stream",
     "text": [
      "pera\n",
      "fresa\n",
      "coco\n",
      "platano\n"
     ]
    }
   ],
   "source": [
    "for i in range(len(mis_frutas)):\n",
    "    print(mis_frutas[i])"
   ]
  },
  {
   "cell_type": "code",
   "execution_count": 26,
   "metadata": {},
   "outputs": [
    {
     "name": "stdout",
     "output_type": "stream",
     "text": [
      "pera\n",
      "fresa\n",
      "coco\n",
      "platano\n"
     ]
    }
   ],
   "source": [
    "for element in mis_frutas:\n",
    "    print(element)"
   ]
  },
  {
   "attachments": {},
   "cell_type": "markdown",
   "metadata": {},
   "source": [
    "element o e es lo mismo"
   ]
  },
  {
   "cell_type": "code",
   "execution_count": 27,
   "metadata": {},
   "outputs": [
    {
     "name": "stdout",
     "output_type": "stream",
     "text": [
      "platano\n",
      "platano\n",
      "platano\n",
      "platano\n"
     ]
    }
   ],
   "source": [
    "for e in mis_frutas:\n",
    "    print(element)"
   ]
  },
  {
   "attachments": {},
   "cell_type": "markdown",
   "metadata": {},
   "source": [
    "Actividad 6"
   ]
  },
  {
   "cell_type": "code",
   "execution_count": 28,
   "metadata": {},
   "outputs": [
    {
     "name": "stdout",
     "output_type": "stream",
     "text": [
      "Felicidades obtuviste 7.5 y aprobaste el semestre\n"
     ]
    }
   ],
   "source": [
    "n = int(input(\"Dame N calificaciones\"))\n",
    "\n",
    "calificaciones = []\n",
    "for i in range(n):\n",
    "    calificacion =int(input(f\"Dame la calificacion {i+1}\"))\n",
    "    calificaciones.append(calificacion)\n",
    "promedio = sum(calificaciones) / len(calificaciones)\n",
    "\n",
    "if promedio >=6:\n",
    "    print(f\"Felicidades obtuviste {promedio} y aprobaste el semestre\")\n",
    "else:\n",
    "    print(\"F\")"
   ]
  },
  {
   "attachments": {},
   "cell_type": "markdown",
   "metadata": {},
   "source": [
    "Excepciones\n"
   ]
  }
 ],
 "metadata": {
  "kernelspec": {
   "display_name": "Python 3",
   "language": "python",
   "name": "python3"
  },
  "language_info": {
   "codemirror_mode": {
    "name": "ipython",
    "version": 3
   },
   "file_extension": ".py",
   "mimetype": "text/x-python",
   "name": "python",
   "nbconvert_exporter": "python",
   "pygments_lexer": "ipython3",
   "version": "3.11.0 (main, Oct 24 2022, 18:26:48) [MSC v.1933 64 bit (AMD64)]"
  },
  "orig_nbformat": 4,
  "vscode": {
   "interpreter": {
    "hash": "313a5e095eb2680e052891a4f644428903fcde07f1f64d5aac9659b52c697759"
   }
  }
 },
 "nbformat": 4,
 "nbformat_minor": 2
}
