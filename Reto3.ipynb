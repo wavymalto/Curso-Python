{
  "cells": [
    {
      "cell_type": "markdown",
      "metadata": {
        "id": "nCjE4hgyjNPT"
      },
      "source": [
        "# Reto 3:\n",
        "\n",
        "---\n",
        "\n"
      ]
    },
    {
      "cell_type": "markdown",
      "metadata": {
        "id": "DUu2A4GtjRV6"
      },
      "source": [
        "## Ejercicio 1: Listas\n"
      ]
    },
    {
      "cell_type": "markdown",
      "metadata": {
        "id": "yj8g-9_Ss5b7"
      },
      "source": [
        "Crea una lista llamada con 3 Películas favoritas y guardalas en una variable llamada `peliculas_fav` "
      ]
    },
    {
      "cell_type": "code",
      "execution_count": 7,
      "metadata": {
        "id": "t6lSiEextER9"
      },
      "outputs": [],
      "source": [
        "peliculas_fav =[\"Interstellar\", \"la la land\", \"BABY\" ]"
      ]
    },
    {
      "cell_type": "markdown",
      "metadata": {
        "id": "4BD1tn7wtJWk"
      },
      "source": [
        "Imprime la película que se encuentra en el índice 1"
      ]
    },
    {
      "cell_type": "code",
      "execution_count": 8,
      "metadata": {
        "id": "lyTBuJAVtIZp"
      },
      "outputs": [
        {
          "name": "stdout",
          "output_type": "stream",
          "text": [
            "['Interstellar', 'la la land', 'BABY']\n"
          ]
        }
      ],
      "source": [
        "print(peliculas_fav)"
      ]
    },
    {
      "cell_type": "markdown",
      "metadata": {
        "id": "Bs7p5tlwtzJT"
      },
      "source": [
        "Crea 2 listas llamadas `puestos` y `sueldos`\n",
        "\n",
        "En la lista `puestos` agregaras 3 puestos de trabajo que se te ocurran\n",
        "\n",
        "En la lista `sueldos` agregaras los 3 sueldos respectivos a los puestos, esta lisata es numérica "
      ]
    },
    {
      "cell_type": "code",
      "execution_count": 9,
      "metadata": {
        "id": "d4XPv6tPuTSy"
      },
      "outputs": [],
      "source": [
        "puestos =[\"Oficinista\", \"Contador\", \"JEFE\" ]\n",
        "sueldos =[8000, 12000, 15000 ]"
      ]
    },
    {
      "cell_type": "markdown",
      "metadata": {
        "id": "wsretnNTuUJp"
      },
      "source": [
        "Una vez creada las 2 listas, ejecutaras la siguiente celda"
      ]
    },
    {
      "cell_type": "code",
      "execution_count": 10,
      "metadata": {
        "id": "zw7e8XITuZO6"
      },
      "outputs": [
        {
          "name": "stdout",
          "output_type": "stream",
          "text": [
            "Trabajos: \n",
            "\n",
            "---------------------------------------\n",
            "\n",
            "Puestos                       | Sueldos  \n",
            "Oficinista                    |      8000\n",
            "Contador                      |     12000\n",
            "JEFE                          |     15000\n"
          ]
        }
      ],
      "source": [
        "print(f'Trabajos: \\n')\n",
        "print(f'---------------------------------------\\n')\n",
        "print(f'{(\"Puestos\"):29} | {(\"Sueldos\"):9}')\n",
        "print(f'{puestos[0]:29} | {sueldos[0]:9}')\n",
        "print(f'{puestos[1]:29} | {sueldos[1]:9}')\n",
        "print(f'{puestos[2]:29} | {sueldos[2]:9}')"
      ]
    },
    {
      "cell_type": "markdown",
      "metadata": {
        "id": "q3ZgvxgbmuEO"
      },
      "source": [
        "## Ejercicio 2: Append\n"
      ]
    },
    {
      "cell_type": "markdown",
      "metadata": {
        "id": "kEGfsNR-tkLJ"
      },
      "source": [
        "Agrega una cuarta película a la variable `peliculas_fav`"
      ]
    },
    {
      "cell_type": "code",
      "execution_count": 11,
      "metadata": {
        "id": "2gmWKLZTtn_i"
      },
      "outputs": [],
      "source": [
        "peliculas_fav =[\"Interstellar\", \"la la land\", \"BABY\", \"Valiente\" ]"
      ]
    },
    {
      "cell_type": "markdown",
      "metadata": {
        "id": "T2esnRXpvW3S"
      },
      "source": [
        "A la siguiente lista vacia, agregaras 3 appends. Cada append sera un color"
      ]
    },
    {
      "cell_type": "code",
      "execution_count": 12,
      "metadata": {
        "id": "xzxyIhWNvrvJ"
      },
      "outputs": [
        {
          "data": {
            "text/plain": [
              "<function list.append(object, /)>"
            ]
          },
          "execution_count": 12,
          "metadata": {},
          "output_type": "execute_result"
        }
      ],
      "source": [
        "colores = [\"rojo\",\"verde\",\"azul\"]\n",
        "\n",
        "colores.append\n",
        "colores.append\n",
        "colores.append"
      ]
    },
    {
      "cell_type": "markdown",
      "metadata": {
        "id": "xDn4DOtDvy-p"
      },
      "source": [
        "Imprime la lista `colores`"
      ]
    },
    {
      "cell_type": "code",
      "execution_count": 13,
      "metadata": {
        "id": "T_vjXopVv2rj"
      },
      "outputs": [
        {
          "name": "stdout",
          "output_type": "stream",
          "text": [
            "['rojo', 'verde', 'azul']\n"
          ]
        }
      ],
      "source": [
        "print(colores)"
      ]
    },
    {
      "cell_type": "markdown",
      "metadata": {
        "id": "rkLKuewFoeit"
      },
      "source": [
        "## Ejercicio 3: Slice"
      ]
    },
    {
      "cell_type": "markdown",
      "metadata": {
        "id": "LDUjBMwTwGa5"
      },
      "source": [
        "Tendremos una lista que contiene 6 ciudades de México (Recuerda correr la celda si no no esta ejecutada)"
      ]
    },
    {
      "cell_type": "code",
      "execution_count": 1,
      "metadata": {
        "id": "cmDpSZmywTnY"
      },
      "outputs": [],
      "source": [
        "ciudades = [\"Cancún\", \"Puerto Vallarta\", \"Guanajuato\", \"Monterrey\", \"Ciudad de México\", \"Guadalajara\"]"
      ]
    },
    {
      "cell_type": "markdown",
      "metadata": {
        "id": "WCpToaDtwv04"
      },
      "source": [
        "Imprime las primeras 2 ciudades con slice"
      ]
    },
    {
      "cell_type": "code",
      "execution_count": 2,
      "metadata": {
        "id": "cr3pSZKLwzGh"
      },
      "outputs": [
        {
          "data": {
            "text/plain": [
              "'Puerto Vallarta'"
            ]
          },
          "execution_count": 2,
          "metadata": {},
          "output_type": "execute_result"
        }
      ],
      "source": [
        "\n",
        "ciudades[0]\n",
        "ciudades[1]"
      ]
    },
    {
      "cell_type": "markdown",
      "metadata": {
        "id": "I_0CmCe_wzvQ"
      },
      "source": [
        "Imprime las 2 siguientes con slice"
      ]
    },
    {
      "cell_type": "code",
      "execution_count": 3,
      "metadata": {
        "id": "yDoM3riRw3rA"
      },
      "outputs": [
        {
          "data": {
            "text/plain": [
              "['Cancún', 'Puerto Vallarta']"
            ]
          },
          "execution_count": 3,
          "metadata": {},
          "output_type": "execute_result"
        }
      ],
      "source": [
        "ciudades[0:2]\n"
      ]
    },
    {
      "cell_type": "markdown",
      "metadata": {
        "id": "_UUPTZv7w3MA"
      },
      "source": [
        "Imprime las 4 ciudades de enmedio con slice"
      ]
    },
    {
      "cell_type": "code",
      "execution_count": 4,
      "metadata": {
        "id": "juPipJxcw3Ag"
      },
      "outputs": [
        {
          "data": {
            "text/plain": [
              "['Guanajuato', 'Monterrey']"
            ]
          },
          "execution_count": 4,
          "metadata": {},
          "output_type": "execute_result"
        }
      ],
      "source": [
        "ciudades[2:4]\n"
      ]
    },
    {
      "cell_type": "markdown",
      "metadata": {
        "id": "YWIPBzCyxXMR"
      },
      "source": [
        "Imprime la ultima ciudad"
      ]
    },
    {
      "cell_type": "code",
      "execution_count": 5,
      "metadata": {
        "id": "PsFyK1hlxZRP"
      },
      "outputs": [
        {
          "data": {
            "text/plain": [
              "'Guadalajara'"
            ]
          },
          "execution_count": 5,
          "metadata": {},
          "output_type": "execute_result"
        }
      ],
      "source": [
        "\n",
        "ciudades[-1]"
      ]
    },
    {
      "cell_type": "markdown",
      "metadata": {
        "id": "dAcrVie6x4-n"
      },
      "source": [
        "## Ejercicio 4: Sort y Reverse"
      ]
    },
    {
      "cell_type": "markdown",
      "metadata": {
        "id": "WW3j8dxHx-Av"
      },
      "source": [
        "Ordena las siguies listas:"
      ]
    },
    {
      "cell_type": "code",
      "execution_count": 6,
      "metadata": {
        "id": "EpUoYqH4x4so"
      },
      "outputs": [
        {
          "name": "stdout",
          "output_type": "stream",
          "text": [
            "[200, 300, 400, 500, 600, 800, 900]\n"
          ]
        }
      ],
      "source": [
        "numeros1 = [500,900,600,800,200,300,400]\n",
        "numeros1.sort()\n",
        "print(numeros1)\n",
        "\n"
      ]
    },
    {
      "cell_type": "code",
      "execution_count": 15,
      "metadata": {
        "id": "jspfnZcYyHf3"
      },
      "outputs": [
        {
          "name": "stdout",
          "output_type": "stream",
          "text": [
            "[12, 15, 26, 32, 35, 35, 45, 48, 48, 65, 75, 84, 85, 95, 96, 96]\n"
          ]
        }
      ],
      "source": [
        "numeros2 = [15,48,26,35,95,75,85,96,32,65,84,96,12,35,45,48]\n",
        "numeros2.sort()\n",
        "print(numeros2)\n",
        "\n",
        "\n"
      ]
    },
    {
      "cell_type": "markdown",
      "metadata": {
        "id": "0iTO_8aayRNY"
      },
      "source": [
        "Ordenas ls siguiente lista de forma decendente"
      ]
    },
    {
      "cell_type": "code",
      "execution_count": 16,
      "metadata": {
        "id": "HTX1F9WMyWQA"
      },
      "outputs": [
        {
          "name": "stdout",
          "output_type": "stream",
          "text": [
            "[0.85, 0.78, 0.69, 0.48, 0.46, 0.36, 0.28, 0.26, 0.12]\n"
          ]
        }
      ],
      "source": [
        "numeros3 = [0.85, 0.69, 0.36, 0.48, 0.26, 0.78, 0.46, 0.12, 0.28]\n",
        "numeros3.sort(reverse=True)\n",
        "print(numeros3)\n"
      ]
    },
    {
      "cell_type": "markdown",
      "metadata": {
        "id": "N-ZSTVI2yu3_"
      },
      "source": [
        "## Ejercicio 5: count()"
      ]
    },
    {
      "cell_type": "markdown",
      "metadata": {
        "id": "t0jfH0YkyzEH"
      },
      "source": [
        "La siguiente lista es de un niño llamado Luis, que fue agregando el color de cada coche que fue viendo en su camino"
      ]
    },
    {
      "cell_type": "code",
      "execution_count": 17,
      "metadata": {
        "id": "NJAxB2kSzsBn"
      },
      "outputs": [],
      "source": [
        "colores_coche = [\"Rojo\",\"Azul\",\"Negro\",\"Blanco\",\"Rojo\",\"Amarillo\",\"Blanco\",\"Azul\",\"Rojo\",\"Blanco\",\"Negro\",\"Rojo\",\"Blanco\",\"Azul\",\"Blanco\",\"Negro\"]"
      ]
    },
    {
      "cell_type": "markdown",
      "metadata": {
        "id": "-WIFNcLPz_9h"
      },
      "source": [
        "¿Cuántos coches Rojos vio?"
      ]
    },
    {
      "cell_type": "code",
      "execution_count": 18,
      "metadata": {
        "id": "4LOuSaZv0JVv"
      },
      "outputs": [
        {
          "data": {
            "text/plain": [
              "4"
            ]
          },
          "execution_count": 18,
          "metadata": {},
          "output_type": "execute_result"
        }
      ],
      "source": [
        "colores_coche.count(\"Rojo\")"
      ]
    },
    {
      "cell_type": "markdown",
      "metadata": {
        "id": "W9BKmlrS0Jui"
      },
      "source": [
        "¿Cuántos coches Azules vio?"
      ]
    },
    {
      "cell_type": "code",
      "execution_count": 19,
      "metadata": {
        "id": "LYtARp9x0NWw"
      },
      "outputs": [
        {
          "data": {
            "text/plain": [
              "3"
            ]
          },
          "execution_count": 19,
          "metadata": {},
          "output_type": "execute_result"
        }
      ],
      "source": [
        "colores_coche.count(\"Azul\")\n"
      ]
    },
    {
      "cell_type": "markdown",
      "metadata": {
        "id": "DciZvdE40ixm"
      },
      "source": [
        "## Ejercicio 6: sum()"
      ]
    },
    {
      "cell_type": "markdown",
      "metadata": {
        "id": "7bAerdI10qQX"
      },
      "source": [
        "En una caja registradora llegaron los siguientes precios de productos: 800, 350, 450, 126, 750, 250, 40, 300, 300 \n",
        "\n",
        "Devolver el ticker con el precio total a pagar de los productos"
      ]
    },
    {
      "cell_type": "code",
      "execution_count": 20,
      "metadata": {
        "id": "qgBSMpAo0nhm"
      },
      "outputs": [
        {
          "data": {
            "text/plain": [
              "3366"
            ]
          },
          "execution_count": 20,
          "metadata": {},
          "output_type": "execute_result"
        }
      ],
      "source": [
        "productos=[800, 350, 450, 126, 750, 250, 40, 300, 300 ]\n",
        "sum(productos)\n"
      ]
    },
    {
      "cell_type": "markdown",
      "metadata": {
        "id": "pXJ7Vx0e1gnS"
      },
      "source": [
        "## Ejercicio 7: len()"
      ]
    },
    {
      "cell_type": "markdown",
      "metadata": {
        "id": "pPJjyIyN1lI_"
      },
      "source": [
        "¿Cuántos coches conto Luis en su camino?"
      ]
    },
    {
      "cell_type": "code",
      "execution_count": 21,
      "metadata": {
        "id": "ELcsyLsV1pE5"
      },
      "outputs": [
        {
          "data": {
            "text/plain": [
              "16"
            ]
          },
          "execution_count": 21,
          "metadata": {},
          "output_type": "execute_result"
        }
      ],
      "source": [
        "\n",
        "len(colores_coche)\n"
      ]
    },
    {
      "cell_type": "markdown",
      "metadata": {
        "id": "6gB1mtvO10lR"
      },
      "source": [
        "## Ejercicio 8: sum() y len()"
      ]
    },
    {
      "cell_type": "markdown",
      "metadata": {
        "id": "q6M4E1hk18dn"
      },
      "source": [
        "Eligiran a un integrante del equipo y asignara a una lista llamada `calificaciones`, las ultimas calificaciones de su escuela.\n",
        "\n",
        "Imprimir el promedio"
      ]
    },
    {
      "cell_type": "code",
      "execution_count": 22,
      "metadata": {
        "id": "Nd8MuT2C2RVu"
      },
      "outputs": [
        {
          "name": "stdout",
          "output_type": "stream",
          "text": [
            "8.0\n"
          ]
        }
      ],
      "source": [
        "\n",
        "calificaciones=[10,9,8,7,6]\n",
        "promedio= sum(calificaciones)/len(calificaciones)\n",
        "print(promedio)"
      ]
    },
    {
      "cell_type": "markdown",
      "metadata": {
        "id": "UFfqEzo-2R5j"
      },
      "source": [
        "## Ejercicio 9: max(), min()\n",
        "Con la lista `calificaciones`, sacar la calificación máxima y la calificación mínima"
      ]
    },
    {
      "cell_type": "code",
      "execution_count": 23,
      "metadata": {
        "id": "-UjKyIKa2wDA"
      },
      "outputs": [
        {
          "name": "stdout",
          "output_type": "stream",
          "text": [
            "6\n",
            "10\n"
          ]
        }
      ],
      "source": [
        "\n",
        "print(min(calificaciones))\n",
        "print(max(calificaciones))\n"
      ]
    }
  ],
  "metadata": {
    "colab": {
      "collapsed_sections": [],
      "name": "Reto3.ipynb",
      "provenance": []
    },
    "kernelspec": {
      "display_name": "Python 3.11.0 64-bit",
      "language": "python",
      "name": "python3"
    },
    "language_info": {
      "codemirror_mode": {
        "name": "ipython",
        "version": 3
      },
      "file_extension": ".py",
      "mimetype": "text/x-python",
      "name": "python",
      "nbconvert_exporter": "python",
      "pygments_lexer": "ipython3",
      "version": "3.11.0"
    },
    "vscode": {
      "interpreter": {
        "hash": "313a5e095eb2680e052891a4f644428903fcde07f1f64d5aac9659b52c697759"
      }
    }
  },
  "nbformat": 4,
  "nbformat_minor": 0
}
